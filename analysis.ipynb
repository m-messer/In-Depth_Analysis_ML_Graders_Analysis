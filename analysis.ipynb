{
 "cells": [
  {
   "cell_type": "code",
   "execution_count": 4,
   "metadata": {
    "collapsed": true,
    "pycharm": {
     "name": "#%%\n"
    }
   },
   "outputs": [],
   "source": [
    "import pandas as pd\n",
    "import seaborn as sns\n",
    "import matplotlib.pyplot as plt\n",
    "\n",
    "sns.set_palette('husl')"
   ]
  },
  {
   "cell_type": "markdown",
   "source": [
    "## Get results and tidy dataset"
   ],
   "metadata": {
    "collapsed": false,
    "pycharm": {
     "name": "#%% md\n"
    }
   }
  },
  {
   "cell_type": "code",
   "execution_count": 13,
   "outputs": [
    {
     "data": {
      "text/plain": "   year                                              title    source  \\\n0  2016  Automated Correction for Syntax Errors in Prog...  Backward   \n1  2018  Deep Reinforcement Learning for Programming La...  Backward   \n2  2016         Sk_P: A neural program corrector for MOOCs  Backward   \n3  2017       An AI system for coaching novice programmers       SLR   \n4  2017  Automatic assessment of programming assignment...       SLR   \n\n                                        decision         approach  \\\n0                            Exclude - Duplicate       Supervised   \n1                            Exclude - Duplicate  Semi-Supervised   \n2  Exclude - Lacking detail on ML implementation              NaN   \n3  Exclude - Lacking detail on ML implementation              NaN   \n4  Exclude - Lacking detail on ML implementation              NaN   \n\n                 category                                              model  \\\n0                  Neural                                                RNN   \n1  Neural and Agent-Based  LSTM for embedding and A3C for localisation an...   \n2                     NaN                                                NaN   \n3                     NaN                                                NaN   \n4                     NaN                                                NaN   \n\n                  preprocessing                  skill  \\\n0  Normalize rarely used tokens  Syntactic Correctness   \n1  Normalize names and literals  Syntactic Correctness   \n2                           NaN                    NaN   \n3                           NaN                    NaN   \n4                           NaN                    NaN   \n\n                                    evaluation     eval_dataset  \n0  Accuracy, compared to other baseline models          Unknown  \n1  Accuracy, compared to other baseline models  Same as DeepFix  \n2                                          NaN              NaN  \n3                                          NaN              NaN  \n4                                          NaN              NaN  ",
      "text/html": "<div>\n<style scoped>\n    .dataframe tbody tr th:only-of-type {\n        vertical-align: middle;\n    }\n\n    .dataframe tbody tr th {\n        vertical-align: top;\n    }\n\n    .dataframe thead th {\n        text-align: right;\n    }\n</style>\n<table border=\"1\" class=\"dataframe\">\n  <thead>\n    <tr style=\"text-align: right;\">\n      <th></th>\n      <th>year</th>\n      <th>title</th>\n      <th>source</th>\n      <th>decision</th>\n      <th>approach</th>\n      <th>category</th>\n      <th>model</th>\n      <th>preprocessing</th>\n      <th>skill</th>\n      <th>evaluation</th>\n      <th>eval_dataset</th>\n    </tr>\n  </thead>\n  <tbody>\n    <tr>\n      <th>0</th>\n      <td>2016</td>\n      <td>Automated Correction for Syntax Errors in Prog...</td>\n      <td>Backward</td>\n      <td>Exclude - Duplicate</td>\n      <td>Supervised</td>\n      <td>Neural</td>\n      <td>RNN</td>\n      <td>Normalize rarely used tokens</td>\n      <td>Syntactic Correctness</td>\n      <td>Accuracy, compared to other baseline models</td>\n      <td>Unknown</td>\n    </tr>\n    <tr>\n      <th>1</th>\n      <td>2018</td>\n      <td>Deep Reinforcement Learning for Programming La...</td>\n      <td>Backward</td>\n      <td>Exclude - Duplicate</td>\n      <td>Semi-Supervised</td>\n      <td>Neural and Agent-Based</td>\n      <td>LSTM for embedding and A3C for localisation an...</td>\n      <td>Normalize names and literals</td>\n      <td>Syntactic Correctness</td>\n      <td>Accuracy, compared to other baseline models</td>\n      <td>Same as DeepFix</td>\n    </tr>\n    <tr>\n      <th>2</th>\n      <td>2016</td>\n      <td>Sk_P: A neural program corrector for MOOCs</td>\n      <td>Backward</td>\n      <td>Exclude - Lacking detail on ML implementation</td>\n      <td>NaN</td>\n      <td>NaN</td>\n      <td>NaN</td>\n      <td>NaN</td>\n      <td>NaN</td>\n      <td>NaN</td>\n      <td>NaN</td>\n    </tr>\n    <tr>\n      <th>3</th>\n      <td>2017</td>\n      <td>An AI system for coaching novice programmers</td>\n      <td>SLR</td>\n      <td>Exclude - Lacking detail on ML implementation</td>\n      <td>NaN</td>\n      <td>NaN</td>\n      <td>NaN</td>\n      <td>NaN</td>\n      <td>NaN</td>\n      <td>NaN</td>\n      <td>NaN</td>\n    </tr>\n    <tr>\n      <th>4</th>\n      <td>2017</td>\n      <td>Automatic assessment of programming assignment...</td>\n      <td>SLR</td>\n      <td>Exclude - Lacking detail on ML implementation</td>\n      <td>NaN</td>\n      <td>NaN</td>\n      <td>NaN</td>\n      <td>NaN</td>\n      <td>NaN</td>\n      <td>NaN</td>\n      <td>NaN</td>\n    </tr>\n  </tbody>\n</table>\n</div>"
     },
     "execution_count": 13,
     "metadata": {},
     "output_type": "execute_result"
    }
   ],
   "source": [
    "df = pd.read_csv('data/results.csv', usecols=['title', 'year', 'source', 'decision', 'approach', 'category', 'model', 'preprocessing', 'skill', 'evaluation', 'eval_dataset'])\n",
    "df.head()"
   ],
   "metadata": {
    "collapsed": false,
    "pycharm": {
     "name": "#%%\n"
    }
   }
  },
  {
   "cell_type": "code",
   "execution_count": 14,
   "outputs": [
    {
     "data": {
      "text/plain": "year              int64\ntitle            object\nsource           object\ndecision         object\napproach         object\ncategory         object\nmodel            object\npreprocessing    object\nskill            object\nevaluation       object\neval_dataset     object\ndtype: object"
     },
     "execution_count": 14,
     "metadata": {},
     "output_type": "execute_result"
    }
   ],
   "source": [
    "df.dtypes"
   ],
   "metadata": {
    "collapsed": false,
    "pycharm": {
     "name": "#%%\n"
    }
   }
  },
  {
   "cell_type": "markdown",
   "source": [
    "## Results\n",
    "### Years Published"
   ],
   "metadata": {
    "collapsed": false,
    "pycharm": {
     "name": "#%% md\n"
    }
   }
  },
  {
   "cell_type": "code",
   "execution_count": null,
   "outputs": [],
   "source": [],
   "metadata": {
    "collapsed": false,
    "pycharm": {
     "name": "#%%\n"
    }
   }
  }
 ],
 "metadata": {
  "kernelspec": {
   "display_name": "Python 3",
   "language": "python",
   "name": "python3"
  },
  "language_info": {
   "codemirror_mode": {
    "name": "ipython",
    "version": 2
   },
   "file_extension": ".py",
   "mimetype": "text/x-python",
   "name": "python",
   "nbconvert_exporter": "python",
   "pygments_lexer": "ipython2",
   "version": "2.7.6"
  }
 },
 "nbformat": 4,
 "nbformat_minor": 0
}