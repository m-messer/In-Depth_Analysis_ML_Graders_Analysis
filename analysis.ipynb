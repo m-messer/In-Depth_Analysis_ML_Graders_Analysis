{
 "cells": [
  {
   "cell_type": "code",
   "execution_count": 4,
   "metadata": {
    "collapsed": true,
    "pycharm": {
     "name": "#%%\n"
    }
   },
   "outputs": [],
   "source": [
    "import pandas as pd\n",
    "import seaborn as sns\n",
    "import matplotlib.pyplot as plt\n",
    "\n",
    "sns.set_palette('husl')"
   ]
  },
  {
   "cell_type": "markdown",
   "source": [
    "## Get results and tidy dataset"
   ],
   "metadata": {
    "collapsed": false,
    "pycharm": {
     "name": "#%% md\n"
    }
   }
  },
  {
   "cell_type": "code",
   "execution_count": 21,
   "outputs": [
    {
     "data": {
      "text/plain": "    year                                              title    source  \\\n9   2014  A system to grade computer programming skills ...  Backward   \n10  2014  Feature engineering for clustering student sol...  Backward   \n11  2015  Learning Program Embeddings to Propagate Feedb...  Backward   \n12  2016  Question independent grading using machine lea...       SLR   \n13  2017  Automatic extraction of AST patterns for debug...       SLR   \n\n   decision      approach     category  \\\n9   Include    Supervised  Traditional   \n10  Include  Unsupervised  Traditional   \n11  Include    Supervised       Neural   \n12  Include    Supervised  Traditional   \n13  Include    Supervised  Traditional   \n\n                                                model  \\\n9                         Ridge Regression and others   \n10                                            k-Means   \n11  Encoder/Decoder for embedding and RNN for pred...   \n12                                              LASSO   \n13                  Random Forest, Majority Classifer   \n\n                                        preprocessing  \\\n9                         Convert to AST, CFG and DDG   \n10                   Extract features, convert to AST   \n11                                     Convert to AST   \n12  Convert to Grammar, Build ‘good set’ using uni...   \n13    Convert to AST, Build good set using unit tests   \n\n                          skill  \\\n9                   Correctness   \n10                  Correctness   \n11  Correctness and readability   \n12                  Correctness   \n13      Feedback on correctness   \n\n                                           evaluation  eval_dataset  \n9           CV and Pearson Correlation between models      Internal  \n10                             Compared to human, AMI      Internal  \n11  Compare to baselines, unit tests, Bag of Trees...  Hour of Code  \n12                                Human, other models      Automata  \n13                        Accuracy and output quality      Internal  ",
      "text/html": "<div>\n<style scoped>\n    .dataframe tbody tr th:only-of-type {\n        vertical-align: middle;\n    }\n\n    .dataframe tbody tr th {\n        vertical-align: top;\n    }\n\n    .dataframe thead th {\n        text-align: right;\n    }\n</style>\n<table border=\"1\" class=\"dataframe\">\n  <thead>\n    <tr style=\"text-align: right;\">\n      <th></th>\n      <th>year</th>\n      <th>title</th>\n      <th>source</th>\n      <th>decision</th>\n      <th>approach</th>\n      <th>category</th>\n      <th>model</th>\n      <th>preprocessing</th>\n      <th>skill</th>\n      <th>evaluation</th>\n      <th>eval_dataset</th>\n    </tr>\n  </thead>\n  <tbody>\n    <tr>\n      <th>9</th>\n      <td>2014</td>\n      <td>A system to grade computer programming skills ...</td>\n      <td>Backward</td>\n      <td>Include</td>\n      <td>Supervised</td>\n      <td>Traditional</td>\n      <td>Ridge Regression and others</td>\n      <td>Convert to AST, CFG and DDG</td>\n      <td>Correctness</td>\n      <td>CV and Pearson Correlation between models</td>\n      <td>Internal</td>\n    </tr>\n    <tr>\n      <th>10</th>\n      <td>2014</td>\n      <td>Feature engineering for clustering student sol...</td>\n      <td>Backward</td>\n      <td>Include</td>\n      <td>Unsupervised</td>\n      <td>Traditional</td>\n      <td>k-Means</td>\n      <td>Extract features, convert to AST</td>\n      <td>Correctness</td>\n      <td>Compared to human, AMI</td>\n      <td>Internal</td>\n    </tr>\n    <tr>\n      <th>11</th>\n      <td>2015</td>\n      <td>Learning Program Embeddings to Propagate Feedb...</td>\n      <td>Backward</td>\n      <td>Include</td>\n      <td>Supervised</td>\n      <td>Neural</td>\n      <td>Encoder/Decoder for embedding and RNN for pred...</td>\n      <td>Convert to AST</td>\n      <td>Correctness and readability</td>\n      <td>Compare to baselines, unit tests, Bag of Trees...</td>\n      <td>Hour of Code</td>\n    </tr>\n    <tr>\n      <th>12</th>\n      <td>2016</td>\n      <td>Question independent grading using machine lea...</td>\n      <td>SLR</td>\n      <td>Include</td>\n      <td>Supervised</td>\n      <td>Traditional</td>\n      <td>LASSO</td>\n      <td>Convert to Grammar, Build ‘good set’ using uni...</td>\n      <td>Correctness</td>\n      <td>Human, other models</td>\n      <td>Automata</td>\n    </tr>\n    <tr>\n      <th>13</th>\n      <td>2017</td>\n      <td>Automatic extraction of AST patterns for debug...</td>\n      <td>SLR</td>\n      <td>Include</td>\n      <td>Supervised</td>\n      <td>Traditional</td>\n      <td>Random Forest, Majority Classifer</td>\n      <td>Convert to AST, Build good set using unit tests</td>\n      <td>Feedback on correctness</td>\n      <td>Accuracy and output quality</td>\n      <td>Internal</td>\n    </tr>\n  </tbody>\n</table>\n</div>"
     },
     "execution_count": 21,
     "metadata": {},
     "output_type": "execute_result"
    }
   ],
   "source": [
    "df = pd.read_csv('data/results.csv', usecols=['title', 'year', 'source', 'decision', 'approach', 'category', 'model', 'preprocessing', 'skill', 'evaluation', 'eval_dataset'])\n",
    "df = df[df.decision.str.contains('Include')]\n",
    "df.head()"
   ],
   "metadata": {
    "collapsed": false,
    "pycharm": {
     "name": "#%%\n"
    }
   }
  },
  {
   "cell_type": "code",
   "execution_count": 14,
   "outputs": [
    {
     "data": {
      "text/plain": "year              int64\ntitle            object\nsource           object\ndecision         object\napproach         object\ncategory         object\nmodel            object\npreprocessing    object\nskill            object\nevaluation       object\neval_dataset     object\ndtype: object"
     },
     "execution_count": 14,
     "metadata": {},
     "output_type": "execute_result"
    }
   ],
   "source": [
    "df.dtypes"
   ],
   "metadata": {
    "collapsed": false,
    "pycharm": {
     "name": "#%%\n"
    }
   }
  },
  {
   "cell_type": "markdown",
   "source": [
    "## Results\n",
    "### Years Published"
   ],
   "metadata": {
    "collapsed": false,
    "pycharm": {
     "name": "#%% md\n"
    }
   }
  },
  {
   "cell_type": "code",
   "execution_count": 22,
   "outputs": [
    {
     "data": {
      "text/plain": "   year  no_published\n0  2019             7\n1  2018             3\n2  2014             2\n3  2017             2\n4  2021             2",
      "text/html": "<div>\n<style scoped>\n    .dataframe tbody tr th:only-of-type {\n        vertical-align: middle;\n    }\n\n    .dataframe tbody tr th {\n        vertical-align: top;\n    }\n\n    .dataframe thead th {\n        text-align: right;\n    }\n</style>\n<table border=\"1\" class=\"dataframe\">\n  <thead>\n    <tr style=\"text-align: right;\">\n      <th></th>\n      <th>year</th>\n      <th>no_published</th>\n    </tr>\n  </thead>\n  <tbody>\n    <tr>\n      <th>0</th>\n      <td>2019</td>\n      <td>7</td>\n    </tr>\n    <tr>\n      <th>1</th>\n      <td>2018</td>\n      <td>3</td>\n    </tr>\n    <tr>\n      <th>2</th>\n      <td>2014</td>\n      <td>2</td>\n    </tr>\n    <tr>\n      <th>3</th>\n      <td>2017</td>\n      <td>2</td>\n    </tr>\n    <tr>\n      <th>4</th>\n      <td>2021</td>\n      <td>2</td>\n    </tr>\n  </tbody>\n</table>\n</div>"
     },
     "execution_count": 22,
     "metadata": {},
     "output_type": "execute_result"
    }
   ],
   "source": [
    "count_years = df.year.value_counts().reset_index().rename(columns={'index': 'year', 'year': 'no_published'})\n",
    "count_years.head()"
   ],
   "metadata": {
    "collapsed": false,
    "pycharm": {
     "name": "#%%\n"
    }
   }
  },
  {
   "cell_type": "code",
   "execution_count": 23,
   "outputs": [
    {
     "data": {
      "text/plain": "18"
     },
     "execution_count": 23,
     "metadata": {},
     "output_type": "execute_result"
    }
   ],
   "source": [
    "count_years.no_published.sum()"
   ],
   "metadata": {
    "collapsed": false,
    "pycharm": {
     "name": "#%%\n"
    }
   }
  },
  {
   "cell_type": "code",
   "execution_count": 24,
   "outputs": [
    {
     "data": {
      "text/plain": "<Figure size 500x500 with 1 Axes>",
      "image/png": "[encoded data removed]"
     },
     "metadata": {},
     "output_type": "display_data"
    }
   ],
   "source": [
    "years_plt = sns.catplot(count_years, kind='bar', x='year', y='no_published')\n",
    "years_plt.set(xlabel='Year Published', ylabel='Number Published')\n",
    "plt.savefig('plots/years_published.pdf')"
   ],
   "metadata": {
    "collapsed": false,
    "pycharm": {
     "name": "#%%\n"
    }
   }
  },
  {
   "cell_type": "markdown",
   "source": [
    "## Approach"
   ],
   "metadata": {
    "collapsed": false,
    "pycharm": {
     "name": "#%% md\n"
    }
   }
  }
 ],
 "metadata": {
  "kernelspec": {
   "display_name": "Python 3",
   "language": "python",
   "name": "python3"
  },
  "language_info": {
   "codemirror_mode": {
    "name": "ipython",
    "version": 2
   },
   "file_extension": ".py",
   "mimetype": "text/x-python",
   "name": "python",
   "nbconvert_exporter": "python",
   "pygments_lexer": "ipython2",
   "version": "2.7.6"
  }
 },
 "nbformat": 4,
 "nbformat_minor": 0
}